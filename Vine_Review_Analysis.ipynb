{
  "nbformat": 4,
  "nbformat_minor": 0,
  "metadata": {
    "colab": {
      "name": "Vine_Review_Analysis.ipynb",
      "provenance": []
    },
    "kernelspec": {
      "name": "python3",
      "display_name": "Python 3"
    },
    "language_info": {
      "name": "python"
    }
  },
  "cells": [
    {
      "cell_type": "code",
      "metadata": {
        "colab": {
          "base_uri": "https://localhost:8080/"
        },
        "id": "3Le8QjLFKc3F",
        "outputId": "021ff28a-2b3b-4a7f-c41a-17c17fd1fe9b"
      },
      "source": [
        "import os\n",
        "# Find the latest version of spark 3.0  from http://www-us.apache.org/dist/spark/ and enter as the spark version\n",
        "# For example:\n",
        "# spark_version = 'spark-3.0.2'\n",
        "spark_version = 'spark-3.1.1'\n",
        "os.environ['SPARK_VERSION']=spark_version\n",
        "\n",
        "# Install Spark and Java\n",
        "!apt-get update\n",
        "!apt-get install openjdk-11-jdk-headless -qq > /dev/null\n",
        "!wget -q http://www-us.apache.org/dist/spark/$SPARK_VERSION/$SPARK_VERSION-bin-hadoop2.7.tgz\n",
        "!tar xf $SPARK_VERSION-bin-hadoop2.7.tgz\n",
        "!pip install -q findspark\n",
        "\n",
        "# Set Environment Variables\n",
        "import os\n",
        "os.environ[\"JAVA_HOME\"] = \"/usr/lib/jvm/java-11-openjdk-amd64\"\n",
        "os.environ[\"SPARK_HOME\"] = f\"/content/{spark_version}-bin-hadoop2.7\"\n",
        "\n",
        "# Start a SparkSession\n",
        "import findspark\n",
        "findspark.init()"
      ],
      "execution_count": 1,
      "outputs": [
        {
          "output_type": "stream",
          "text": [
            "\r0% [Working]\r            \rGet:1 https://cloud.r-project.org/bin/linux/ubuntu bionic-cran40/ InRelease [3,626 B]\n",
            "\r0% [Connecting to archive.ubuntu.com] [Connecting to security.ubuntu.com (91.18\r0% [Connecting to archive.ubuntu.com] [Connecting to security.ubuntu.com (91.18\r                                                                               \rIgn:2 https://developer.download.nvidia.com/compute/cuda/repos/ubuntu1804/x86_64  InRelease\n",
            "\r0% [Connecting to archive.ubuntu.com] [Connecting to security.ubuntu.com (91.18\r0% [1 InRelease gpgv 3,626 B] [Connecting to archive.ubuntu.com] [Connecting to\r                                                                               \rIgn:3 https://developer.download.nvidia.com/compute/machine-learning/repos/ubuntu1804/x86_64  InRelease\n",
            "\r0% [1 InRelease gpgv 3,626 B] [Connecting to archive.ubuntu.com] [Connecting to\r                                                                               \rHit:4 https://developer.download.nvidia.com/compute/cuda/repos/ubuntu1804/x86_64  Release\n",
            "Hit:5 https://developer.download.nvidia.com/compute/machine-learning/repos/ubuntu1804/x86_64  Release\n",
            "Get:6 http://security.ubuntu.com/ubuntu bionic-security InRelease [88.7 kB]\n",
            "Hit:7 http://archive.ubuntu.com/ubuntu bionic InRelease\n",
            "Hit:8 http://ppa.launchpad.net/c2d4u.team/c2d4u4.0+/ubuntu bionic InRelease\n",
            "Get:10 http://archive.ubuntu.com/ubuntu bionic-updates InRelease [88.7 kB]\n",
            "Hit:12 http://ppa.launchpad.net/cran/libgit2/ubuntu bionic InRelease\n",
            "Hit:13 http://ppa.launchpad.net/deadsnakes/ppa/ubuntu bionic InRelease\n",
            "Get:14 http://archive.ubuntu.com/ubuntu bionic-backports InRelease [74.6 kB]\n",
            "Hit:15 http://ppa.launchpad.net/graphics-drivers/ppa/ubuntu bionic InRelease\n",
            "Fetched 256 kB in 2s (118 kB/s)\n",
            "Reading package lists... Done\n"
          ],
          "name": "stdout"
        }
      ]
    },
    {
      "cell_type": "code",
      "metadata": {
        "id": "1bXfUK-4K4Ua"
      },
      "source": [
        "# Start a spark session\n",
        "from pyspark.sql import SparkSession\n",
        "spark = SparkSession.builder.appName(\"Vine_Review_Analysis\").getOrCreate()"
      ],
      "execution_count": 2,
      "outputs": []
    },
    {
      "cell_type": "code",
      "metadata": {
        "colab": {
          "base_uri": "https://localhost:8080/"
        },
        "id": "7jLtMvFZLkaF",
        "outputId": "38445e00-076b-4ca9-d618-7ccd2dff6229"
      },
      "source": [
        "# Read in data from S3 files\n",
        "from pyspark import SparkFiles\n",
        "url = \"https://s3.amazonaws.com/amazon-reviews-pds/tsv/amazon_reviews_us_Camera_v1_00.tsv.gz\"\n",
        "spark.sparkContext.addFile(url)\n",
        "reviews_df = spark.read.option(\"encoding\", \"UTF-8\").csv(SparkFiles.get(\"\"), sep=\"\\t\", header=True, inferSchema=True)\n",
        "reviews_df.show(5)"
      ],
      "execution_count": 3,
      "outputs": [
        {
          "output_type": "stream",
          "text": [
            "+-----------+-----------+--------------+----------+--------------+--------------------+----------------+-----------+-------------+-----------+----+-----------------+--------------------+--------------------+-----------+\n",
            "|marketplace|customer_id|     review_id|product_id|product_parent|       product_title|product_category|star_rating|helpful_votes|total_votes|vine|verified_purchase|     review_headline|         review_body|review_date|\n",
            "+-----------+-----------+--------------+----------+--------------+--------------------+----------------+-----------+-------------+-----------+----+-----------------+--------------------+--------------------+-----------+\n",
            "|         US|    2975964|R1NBG94582SJE2|B00I01JQJM|     860486164|GoPro Rechargeabl...|          Camera|          5|            0|          0|   N|                Y|          Five Stars|                  ok| 2015-08-31|\n",
            "|         US|   23526356|R273DCA6Y0H9V7|B00TCO0ZAA|     292641483|Professional 58mm...|          Camera|          5|            0|          0|   N|                Y|          Love it!!!|Perfect, even stu...| 2015-08-31|\n",
            "|         US|   52764145| RQVOXO7WUOFK6|B00B7733E0|      75825744|Spy Tec Z12 Motio...|          Camera|          2|            1|          1|   N|                Y|Another Motion De...|If the words, &#3...| 2015-08-31|\n",
            "|         US|   47348933|R1KWKSF21PO6HO|B006ZN4U34|     789352955|Celestron UpClose...|          Camera|          5|            0|          0|   N|                Y|Exactly what I wa...|Exactly what I wa...| 2015-08-31|\n",
            "|         US|   33680700|R38H3UO1J190GI|B00HUEBGMU|      19067902|Vidpro XM-L Wired...|          Camera|          5|            1|          1|   N|                Y|Good mic at a Goo...|I will look past ...| 2015-08-31|\n",
            "+-----------+-----------+--------------+----------+--------------+--------------------+----------------+-----------+-------------+-----------+----+-----------------+--------------------+--------------------+-----------+\n",
            "only showing top 5 rows\n",
            "\n"
          ],
          "name": "stdout"
        }
      ]
    },
    {
      "cell_type": "code",
      "metadata": {
        "colab": {
          "base_uri": "https://localhost:8080/"
        },
        "id": "-d62GbSbMFKW",
        "outputId": "da4dfcb7-2e7f-450e-bfd0-856947d871ae"
      },
      "source": [
        "# Create a new DataFrame or table to retrieve all the rows where the total_votes count is equal to or greater than 20\n",
        "reviews_with_above20_votes_df = reviews_df.filter(\"total_votes >= 20\")\n",
        "reviews_with_above20_votes_df.show()"
      ],
      "execution_count": 4,
      "outputs": [
        {
          "output_type": "stream",
          "text": [
            "+-----------+-----------+--------------+----------+--------------+--------------------+----------------+-----------+-------------+-----------+----+-----------------+--------------------+--------------------+-----------+\n",
            "|marketplace|customer_id|     review_id|product_id|product_parent|       product_title|product_category|star_rating|helpful_votes|total_votes|vine|verified_purchase|     review_headline|         review_body|review_date|\n",
            "+-----------+-----------+--------------+----------+--------------+--------------------+----------------+-----------+-------------+-----------+----+-----------------+--------------------+--------------------+-----------+\n",
            "|         US|    3200070|R3FJ319XA6ZAUQ|B00ZI7IH1E|     450586100|Funlux? 8CH Full ...|          Camera|          2|           21|         25|   N|                Y|            Mediocre|The product is gr...| 2015-08-31|\n",
            "|         US|   40768960| R6HRF25HUMIIE|B00TAG8F52|     482310914|LimoStudio Digita...|          Camera|          5|           24|         24|   N|                Y|Very clever desig...|This greatly exce...| 2015-08-31|\n",
            "|         US|   14620502|R2CTAK3APOFKZU|B011HRZMDE|     970722920|     Korner Extender|          Camera|          5|           37|         38|   N|                N|Korner is unequal...|I've been looking...| 2015-08-31|\n",
            "|         US|   50922190|R1WQZB0CAEPQBU|B010G3THMW|     829519307|Panasonic KX-HN60...|          Camera|          2|           85|        128|   N|                N|Camera Resolution...|According to bhph...| 2015-08-31|\n",
            "|         US|   20534171| RHZDSA48HVRVK|B010G3THMW|     829519307|Panasonic KX-HN60...|          Camera|          5|           49|         86|   N|                N|For the \"Uninitia...|They ARE &#34;Wir...| 2015-08-31|\n",
            "|         US|   30739283|R190J2PDOZ5GVK|B00ZDWGFR2|     390090468|Sony a7R II Full-...|          Camera|          3|           36|         51|   N|                Y|Great camera, but...|Great camera, but...| 2015-08-31|\n",
            "|         US|    8196048|R1WZSWWOTN58OP|B00VDO27Z8|     897822013|MCOCEAN Accessori...|          Camera|          5|           73|         77|   N|                Y|        What a deal!|Great deal for a ...| 2015-08-31|\n",
            "|         US|   27970039|R3EM8C9CKA6GPK|B010G3THMW|     829519307|Panasonic KX-HN60...|          Camera|          2|           41|        115|   N|                N|Not Wireless, you...|The cameras are n...| 2015-08-31|\n",
            "|         US|   10147523|R29THVJFO35FZA|B00U6VUXOQ|     508468169|Fujifilm Instax G...|          Camera|          5|           48|         50|   N|                Y|        I love this!|I love this!! I w...| 2015-08-31|\n",
            "|         US|   10147523|R3V8FKXIHBLWEL|B009ZM9R4O|     840491020|       Instax Parent|          Camera|          5|           91|        108|   N|                Y|  I love this camera|I love this camer...| 2015-08-31|\n",
            "|         US|   13509623|R3JIIPQ8F0P7QS|B00LVQ7KQO|      69957440|Foscam Plug and P...|          Camera|          4|           22|         23|   N|                Y|You must be a tot...|These are technic...| 2015-08-31|\n",
            "|         US|   49523782|R3T9SAE2GZ2CN8|B0116Q3S0U|     519093546|XVIM 8 Channel H....|          Camera|          5|           24|         28|   N|                Y|(live video test ...|[[VIDEOID:caf452f...| 2015-08-31|\n",
            "|         US|   49228093|R2O9VZEU64LFXH|B00XUP5M6Y|     167429803|GoPro Camera HERO...|          Camera|          4|          115|        136|   N|                Y|Great picture qua...|I bought two of t...| 2015-08-31|\n",
            "|         US|   15788484|R3NET50AD1HMUD|B00Y0LXDZE|     309286212|   NC-335PW HD 1080P|          Camera|          3|           27|         32|   N|                Y|Great hardware, a...|The hardware is g...| 2015-08-31|\n",
            "|         US|   38187888| R79ZW8DU56QV6|B009NIX3ZY|     975562623|SOLOSHOT Automati...|          Camera|          1|           43|         47|   N|                N|good luck, no sup...|I was one of the ...| 2015-08-31|\n",
            "|         US|   34583489| RQN1N103PBM22|B00UJFHTO6|     858869116|Hikvision DS-2CD3...|          Camera|          1|           61|         69|   N|                Y|Firmware upgrade ...|Added 2/15/2016 b...| 2015-08-31|\n",
            "|         US|   35232985|R28VHGS18B0YXC|B00H36U69Y|     275946752|PANASONIC LUMIX G...|          Camera|          5|           35|         42|   N|                N|Fantastic Portrai...|I was really exci...| 2015-08-31|\n",
            "|         US|   10861723|R3BWM499VCMGS7|B00ZDWGFR2|     390090468|Sony a7R II Full-...|          Camera|          5|           48|         52|   N|                Y|Absolutly Must ha...|Im a Canon guy, b...| 2015-08-31|\n",
            "|         US|   36889149|R36SDHRTJ9VEM8|B00XREHENC|     367812168|Panasonic LUMIX D...|          Camera|          5|           32|         34|   N|                N|The best Camera i...|I picked up my CM...| 2015-08-31|\n",
            "|         US|   10138891|R2ILOJ2MACX1GM|B010G3THMW|     829519307|Panasonic KX-HN60...|          Camera|          5|           37|         63|   N|                N|Home monitoring d...|Completely disagr...| 2015-08-31|\n",
            "+-----------+-----------+--------------+----------+--------------+--------------------+----------------+-----------+-------------+-----------+----+-----------------+--------------------+--------------------+-----------+\n",
            "only showing top 20 rows\n",
            "\n"
          ],
          "name": "stdout"
        }
      ]
    },
    {
      "cell_type": "code",
      "metadata": {
        "colab": {
          "base_uri": "https://localhost:8080/"
        },
        "id": "0qxO6loIYJ5K",
        "outputId": "7696aed7-27cf-4f9b-aabf-0fabe1dbde27"
      },
      "source": [
        "# importing required function\n",
        "from pyspark.sql.functions import col\n",
        "\n",
        "# Create a new DataFrame or table to retrieve all the rows where the number of helpful_votes divided by total_votes is equal to or greater than 50%\n",
        "helpful_reviews_df = reviews_with_above20_votes_df.filter((col('helpful_votes')/col('total_votes')) >= .5)\n",
        "helpful_reviews_df.show()"
      ],
      "execution_count": 5,
      "outputs": [
        {
          "output_type": "stream",
          "text": [
            "+-----------+-----------+--------------+----------+--------------+--------------------+----------------+-----------+-------------+-----------+----+-----------------+--------------------+--------------------+-----------+\n",
            "|marketplace|customer_id|     review_id|product_id|product_parent|       product_title|product_category|star_rating|helpful_votes|total_votes|vine|verified_purchase|     review_headline|         review_body|review_date|\n",
            "+-----------+-----------+--------------+----------+--------------+--------------------+----------------+-----------+-------------+-----------+----+-----------------+--------------------+--------------------+-----------+\n",
            "|         US|    3200070|R3FJ319XA6ZAUQ|B00ZI7IH1E|     450586100|Funlux? 8CH Full ...|          Camera|          2|           21|         25|   N|                Y|            Mediocre|The product is gr...| 2015-08-31|\n",
            "|         US|   40768960| R6HRF25HUMIIE|B00TAG8F52|     482310914|LimoStudio Digita...|          Camera|          5|           24|         24|   N|                Y|Very clever desig...|This greatly exce...| 2015-08-31|\n",
            "|         US|   14620502|R2CTAK3APOFKZU|B011HRZMDE|     970722920|     Korner Extender|          Camera|          5|           37|         38|   N|                N|Korner is unequal...|I've been looking...| 2015-08-31|\n",
            "|         US|   50922190|R1WQZB0CAEPQBU|B010G3THMW|     829519307|Panasonic KX-HN60...|          Camera|          2|           85|        128|   N|                N|Camera Resolution...|According to bhph...| 2015-08-31|\n",
            "|         US|   20534171| RHZDSA48HVRVK|B010G3THMW|     829519307|Panasonic KX-HN60...|          Camera|          5|           49|         86|   N|                N|For the \"Uninitia...|They ARE &#34;Wir...| 2015-08-31|\n",
            "|         US|   30739283|R190J2PDOZ5GVK|B00ZDWGFR2|     390090468|Sony a7R II Full-...|          Camera|          3|           36|         51|   N|                Y|Great camera, but...|Great camera, but...| 2015-08-31|\n",
            "|         US|    8196048|R1WZSWWOTN58OP|B00VDO27Z8|     897822013|MCOCEAN Accessori...|          Camera|          5|           73|         77|   N|                Y|        What a deal!|Great deal for a ...| 2015-08-31|\n",
            "|         US|   10147523|R29THVJFO35FZA|B00U6VUXOQ|     508468169|Fujifilm Instax G...|          Camera|          5|           48|         50|   N|                Y|        I love this!|I love this!! I w...| 2015-08-31|\n",
            "|         US|   10147523|R3V8FKXIHBLWEL|B009ZM9R4O|     840491020|       Instax Parent|          Camera|          5|           91|        108|   N|                Y|  I love this camera|I love this camer...| 2015-08-31|\n",
            "|         US|   13509623|R3JIIPQ8F0P7QS|B00LVQ7KQO|      69957440|Foscam Plug and P...|          Camera|          4|           22|         23|   N|                Y|You must be a tot...|These are technic...| 2015-08-31|\n",
            "|         US|   49523782|R3T9SAE2GZ2CN8|B0116Q3S0U|     519093546|XVIM 8 Channel H....|          Camera|          5|           24|         28|   N|                Y|(live video test ...|[[VIDEOID:caf452f...| 2015-08-31|\n",
            "|         US|   49228093|R2O9VZEU64LFXH|B00XUP5M6Y|     167429803|GoPro Camera HERO...|          Camera|          4|          115|        136|   N|                Y|Great picture qua...|I bought two of t...| 2015-08-31|\n",
            "|         US|   15788484|R3NET50AD1HMUD|B00Y0LXDZE|     309286212|   NC-335PW HD 1080P|          Camera|          3|           27|         32|   N|                Y|Great hardware, a...|The hardware is g...| 2015-08-31|\n",
            "|         US|   38187888| R79ZW8DU56QV6|B009NIX3ZY|     975562623|SOLOSHOT Automati...|          Camera|          1|           43|         47|   N|                N|good luck, no sup...|I was one of the ...| 2015-08-31|\n",
            "|         US|   34583489| RQN1N103PBM22|B00UJFHTO6|     858869116|Hikvision DS-2CD3...|          Camera|          1|           61|         69|   N|                Y|Firmware upgrade ...|Added 2/15/2016 b...| 2015-08-31|\n",
            "|         US|   35232985|R28VHGS18B0YXC|B00H36U69Y|     275946752|PANASONIC LUMIX G...|          Camera|          5|           35|         42|   N|                N|Fantastic Portrai...|I was really exci...| 2015-08-31|\n",
            "|         US|   10861723|R3BWM499VCMGS7|B00ZDWGFR2|     390090468|Sony a7R II Full-...|          Camera|          5|           48|         52|   N|                Y|Absolutly Must ha...|Im a Canon guy, b...| 2015-08-31|\n",
            "|         US|   36889149|R36SDHRTJ9VEM8|B00XREHENC|     367812168|Panasonic LUMIX D...|          Camera|          5|           32|         34|   N|                N|The best Camera i...|I picked up my CM...| 2015-08-31|\n",
            "|         US|   10138891|R2ILOJ2MACX1GM|B010G3THMW|     829519307|Panasonic KX-HN60...|          Camera|          5|           37|         63|   N|                N|Home monitoring d...|Completely disagr...| 2015-08-31|\n",
            "|         US|   49523782|R2C9SAXAPMNSAI|B0116Q3O68|     190697751|Xvim Weatherproof...|          Camera|          5|           44|         47|   N|                N|(live video test ...|[[VIDEOID:c42f14b...| 2015-08-31|\n",
            "+-----------+-----------+--------------+----------+--------------+--------------------+----------------+-----------+-------------+-----------+----+-----------------+--------------------+--------------------+-----------+\n",
            "only showing top 20 rows\n",
            "\n"
          ],
          "name": "stdout"
        }
      ]
    },
    {
      "cell_type": "code",
      "metadata": {
        "colab": {
          "base_uri": "https://localhost:8080/"
        },
        "id": "IDluXE99ZZwF",
        "outputId": "530587ea-a18e-40e9-9803-8cf6545ce4a8"
      },
      "source": [
        "# Create a new dataframe that retrieves all rows where a review was written as part of the Vine program (paid)\n",
        "paid_reviews_df = helpful_reviews_df.filter(col(\"vine\") == \"Y\")\n",
        "paid_reviews_df.show()"
      ],
      "execution_count": 6,
      "outputs": [
        {
          "output_type": "stream",
          "text": [
            "+-----------+-----------+--------------+----------+--------------+--------------------+----------------+-----------+-------------+-----------+----+-----------------+--------------------+--------------------+-----------+\n",
            "|marketplace|customer_id|     review_id|product_id|product_parent|       product_title|product_category|star_rating|helpful_votes|total_votes|vine|verified_purchase|     review_headline|         review_body|review_date|\n",
            "+-----------+-----------+--------------+----------+--------------+--------------------+----------------+-----------+-------------+-----------+----+-----------------+--------------------+--------------------+-----------+\n",
            "|         US|   38607681|R37L6YZDX0P3J9|B00SEKXJ6U|     408705341|Guardzilla  All-I...|          Camera|          1|           28|         35|   Y|                N|Gave up after an ...|I have installed ...| 2015-08-29|\n",
            "|         US|   52532594|R2JT4XRQO2KASL|B00SEKXJ6U|     408705341|Guardzilla  All-I...|          Camera|          5|           38|         41|   Y|                N|We love the guard...|UPDATE 9/5/15 The...| 2015-08-28|\n",
            "|         US|   52851692|R10XRAOBFFSTL2|B00R5LHB0Y|      91023397|Sony HD Video Rec...|          Camera|          5|           44|         47|   Y|                N|great video camer...|Very impressed wi...| 2015-08-13|\n",
            "|         US|   52685392| R1X8F3R1K1SF5|B0123CQQXM|     357389917|Motorola FOCUS73-...|          Camera|          2|           30|         31|   Y|                N|No audio, mediocr...|The Motorola FOCU...| 2015-08-12|\n",
            "|         US|   43362091|R326QV66CKBB43|B00ZDWGM34|     421352815|      RX100M4 Parent|          Camera|          4|          127|        139|   Y|                N|Amazing camera wi...|I'm sure if you'r...| 2015-07-30|\n",
            "|         US|   35575415| RGXLFTR31J561|B00ZDWGM34|     421352815|      RX100M4 Parent|          Camera|          5|           29|         34|   Y|                N|4K Video, Excelle...|I am a semi-pro p...| 2015-07-22|\n",
            "|         US|   51968312|R2ZS3WCJYUDQH0|B00TGOWK3Q|     242005251|Fujifilm Instax W...|          Camera|          3|          101|        115|   Y|                N|Old-school nostal...|While I admit tha...| 2015-07-19|\n",
            "|         US|   42689422|R31771VBPRDVJS|B00TGOWK3Q|     242005251|Fujifilm Instax W...|          Camera|          4|           75|         83|   Y|                N|Great camera! Eve...|I got this for my...| 2015-07-09|\n",
            "|         US|   44776805| R8O8KM73GO190|B00TGOWK3Q|     242005251|Fujifilm Instax W...|          Camera|          5|           21|         28|   Y|                N|          Fun Camera|This is a fun cam...| 2015-07-04|\n",
            "|         US|   42644737| RPU1GURA1NOT0|B00VWJOK7M|     474422324|         HX90 Parent|          Camera|          5|           33|         35|   Y|                N|A Different Persp...|My review of the ...| 2015-06-29|\n",
            "|         US|   39923337|R1LSBTTOR7MC2T|B00VWJOK7M|     474422324|         HX90 Parent|          Camera|          5|          364|        373|   Y|                N|Amazing features ...|I am a camera jun...| 2015-06-25|\n",
            "|         US|   47098142|R3M6G50741A8BZ|B00PMMB4X8|     924700931|AmazonBasics GoPr...|          Camera|          5|           24|         30|   Y|                N|Makes day trips s...|As an organizer a...| 2015-06-13|\n",
            "|         US|   50900986|R23USDQ7OW3CWH|B00R5LH9G0|     142491613|    AX33 Parent ASIN|          Camera|          5|           58|         65|   Y|                N|Shoot XAVC S HD  ...|The Sony FDR-AX33...| 2015-05-22|\n",
            "|         US|   51865210|R21XG60MOE370I|B00RBG68N4|     887266661|Lumix WiFi Enable...|          Camera|          5|           95|        105|   Y|                N|Incredible Featur...|I have been a hea...| 2015-05-11|\n",
            "|         US|   52215985|R38IT6Q7UDG0AC|B00RBG61G8|     887266661|Lumix WiFi Enable...|          Camera|          5|           52|         65|   Y|                N|You won't regret it!|I love the camera...| 2015-05-07|\n",
            "|         US|   50523018|R1ZNRVVBZEZPMT|B00PJ1XXA4|     473266927|Panasonic KX-HN60...|          Camera|          2|           64|         74|   Y|                N|Easy setup, poor ...|Let me just jump ...| 2015-04-27|\n",
            "|         US|   52807614|R2UJ5PT023G3XU|B00RBG60U0|      86014395|Lumix Active Life...|          Camera|          4|           29|         38|   Y|                N|Four stars for va...|*** UPDATE 6/11/1...| 2015-04-24|\n",
            "|         US|   22496686|R2ZUSNUDLAG4HR|B00RBG687A|     531727433|Panasonic Lumix Z...|          Camera|          5|           20|         23|   Y|                N| A Winning New Lumix|Lumix ZS50 Digita...| 2015-04-21|\n",
            "|         US|   37876368| RYCSFTDYMJCXV|B00RBG68Q6|     260742274|           Lumix 20x|          Camera|          2|           52|         60|   Y|                N|Very disappointin...|I was really disa...| 2015-04-20|\n",
            "|         US|   50900986|R2NKND0YUD25RE|B00RBG687A|     531727433|Panasonic Lumix Z...|          Camera|          5|           39|         41|   Y|                N|About Viewfinder,...|ELECTRONIC VIEWFI...| 2015-04-18|\n",
            "+-----------+-----------+--------------+----------+--------------+--------------------+----------------+-----------+-------------+-----------+----+-----------------+--------------------+--------------------+-----------+\n",
            "only showing top 20 rows\n",
            "\n"
          ],
          "name": "stdout"
        }
      ]
    },
    {
      "cell_type": "code",
      "metadata": {
        "colab": {
          "base_uri": "https://localhost:8080/"
        },
        "id": "M26-g04BZ-Pd",
        "outputId": "8556b210-5df8-44d2-d1eb-c0771ba0bcf1"
      },
      "source": [
        "# Create a new dataframe that retrieves all rows where the review was not part of the Vine program (unpaid)\n",
        "unpaid_reviews_df = helpful_reviews_df.filter(col(\"vine\") == \"N\")\n",
        "unpaid_reviews_df.show()"
      ],
      "execution_count": 7,
      "outputs": [
        {
          "output_type": "stream",
          "text": [
            "+-----------+-----------+--------------+----------+--------------+--------------------+----------------+-----------+-------------+-----------+----+-----------------+--------------------+--------------------+-----------+\n",
            "|marketplace|customer_id|     review_id|product_id|product_parent|       product_title|product_category|star_rating|helpful_votes|total_votes|vine|verified_purchase|     review_headline|         review_body|review_date|\n",
            "+-----------+-----------+--------------+----------+--------------+--------------------+----------------+-----------+-------------+-----------+----+-----------------+--------------------+--------------------+-----------+\n",
            "|         US|    3200070|R3FJ319XA6ZAUQ|B00ZI7IH1E|     450586100|Funlux? 8CH Full ...|          Camera|          2|           21|         25|   N|                Y|            Mediocre|The product is gr...| 2015-08-31|\n",
            "|         US|   40768960| R6HRF25HUMIIE|B00TAG8F52|     482310914|LimoStudio Digita...|          Camera|          5|           24|         24|   N|                Y|Very clever desig...|This greatly exce...| 2015-08-31|\n",
            "|         US|   14620502|R2CTAK3APOFKZU|B011HRZMDE|     970722920|     Korner Extender|          Camera|          5|           37|         38|   N|                N|Korner is unequal...|I've been looking...| 2015-08-31|\n",
            "|         US|   50922190|R1WQZB0CAEPQBU|B010G3THMW|     829519307|Panasonic KX-HN60...|          Camera|          2|           85|        128|   N|                N|Camera Resolution...|According to bhph...| 2015-08-31|\n",
            "|         US|   20534171| RHZDSA48HVRVK|B010G3THMW|     829519307|Panasonic KX-HN60...|          Camera|          5|           49|         86|   N|                N|For the \"Uninitia...|They ARE &#34;Wir...| 2015-08-31|\n",
            "|         US|   30739283|R190J2PDOZ5GVK|B00ZDWGFR2|     390090468|Sony a7R II Full-...|          Camera|          3|           36|         51|   N|                Y|Great camera, but...|Great camera, but...| 2015-08-31|\n",
            "|         US|    8196048|R1WZSWWOTN58OP|B00VDO27Z8|     897822013|MCOCEAN Accessori...|          Camera|          5|           73|         77|   N|                Y|        What a deal!|Great deal for a ...| 2015-08-31|\n",
            "|         US|   10147523|R29THVJFO35FZA|B00U6VUXOQ|     508468169|Fujifilm Instax G...|          Camera|          5|           48|         50|   N|                Y|        I love this!|I love this!! I w...| 2015-08-31|\n",
            "|         US|   10147523|R3V8FKXIHBLWEL|B009ZM9R4O|     840491020|       Instax Parent|          Camera|          5|           91|        108|   N|                Y|  I love this camera|I love this camer...| 2015-08-31|\n",
            "|         US|   13509623|R3JIIPQ8F0P7QS|B00LVQ7KQO|      69957440|Foscam Plug and P...|          Camera|          4|           22|         23|   N|                Y|You must be a tot...|These are technic...| 2015-08-31|\n",
            "|         US|   49523782|R3T9SAE2GZ2CN8|B0116Q3S0U|     519093546|XVIM 8 Channel H....|          Camera|          5|           24|         28|   N|                Y|(live video test ...|[[VIDEOID:caf452f...| 2015-08-31|\n",
            "|         US|   49228093|R2O9VZEU64LFXH|B00XUP5M6Y|     167429803|GoPro Camera HERO...|          Camera|          4|          115|        136|   N|                Y|Great picture qua...|I bought two of t...| 2015-08-31|\n",
            "|         US|   15788484|R3NET50AD1HMUD|B00Y0LXDZE|     309286212|   NC-335PW HD 1080P|          Camera|          3|           27|         32|   N|                Y|Great hardware, a...|The hardware is g...| 2015-08-31|\n",
            "|         US|   38187888| R79ZW8DU56QV6|B009NIX3ZY|     975562623|SOLOSHOT Automati...|          Camera|          1|           43|         47|   N|                N|good luck, no sup...|I was one of the ...| 2015-08-31|\n",
            "|         US|   34583489| RQN1N103PBM22|B00UJFHTO6|     858869116|Hikvision DS-2CD3...|          Camera|          1|           61|         69|   N|                Y|Firmware upgrade ...|Added 2/15/2016 b...| 2015-08-31|\n",
            "|         US|   35232985|R28VHGS18B0YXC|B00H36U69Y|     275946752|PANASONIC LUMIX G...|          Camera|          5|           35|         42|   N|                N|Fantastic Portrai...|I was really exci...| 2015-08-31|\n",
            "|         US|   10861723|R3BWM499VCMGS7|B00ZDWGFR2|     390090468|Sony a7R II Full-...|          Camera|          5|           48|         52|   N|                Y|Absolutly Must ha...|Im a Canon guy, b...| 2015-08-31|\n",
            "|         US|   36889149|R36SDHRTJ9VEM8|B00XREHENC|     367812168|Panasonic LUMIX D...|          Camera|          5|           32|         34|   N|                N|The best Camera i...|I picked up my CM...| 2015-08-31|\n",
            "|         US|   10138891|R2ILOJ2MACX1GM|B010G3THMW|     829519307|Panasonic KX-HN60...|          Camera|          5|           37|         63|   N|                N|Home monitoring d...|Completely disagr...| 2015-08-31|\n",
            "|         US|   49523782|R2C9SAXAPMNSAI|B0116Q3O68|     190697751|Xvim Weatherproof...|          Camera|          5|           44|         47|   N|                N|(live video test ...|[[VIDEOID:c42f14b...| 2015-08-31|\n",
            "+-----------+-----------+--------------+----------+--------------+--------------------+----------------+-----------+-------------+-----------+----+-----------------+--------------------+--------------------+-----------+\n",
            "only showing top 20 rows\n",
            "\n"
          ],
          "name": "stdout"
        }
      ]
    },
    {
      "cell_type": "code",
      "metadata": {
        "colab": {
          "base_uri": "https://localhost:8080/"
        },
        "id": "h1g8plBRaMHd",
        "outputId": "7750c431-cd24-425c-d714-57904ed5ab7e"
      },
      "source": [
        "# Generate the total number of reviews\n",
        "total_reviews = helpful_reviews_df.select(\"review_id\").count()\n",
        "total_reviews"
      ],
      "execution_count": 8,
      "outputs": [
        {
          "output_type": "execute_result",
          "data": {
            "text/plain": [
              "51129"
            ]
          },
          "metadata": {
            "tags": []
          },
          "execution_count": 8
        }
      ]
    },
    {
      "cell_type": "code",
      "metadata": {
        "colab": {
          "base_uri": "https://localhost:8080/"
        },
        "id": "Dmw2ZPy9aD5j",
        "outputId": "1c1a5281-44ee-4b45-dd05-b69c07ffb130"
      },
      "source": [
        "# Generate the total number of 5 star reviews\n",
        "total_five_star_reviews = helpful_reviews_df.filter(\"star_rating == 5\").count()\n",
        "total_five_star_reviews"
      ],
      "execution_count": 9,
      "outputs": [
        {
          "output_type": "execute_result",
          "data": {
            "text/plain": [
              "25477"
            ]
          },
          "metadata": {
            "tags": []
          },
          "execution_count": 9
        }
      ]
    },
    {
      "cell_type": "markdown",
      "metadata": {
        "id": "umx7rcP1yHC9"
      },
      "source": [
        ""
      ]
    },
    {
      "cell_type": "code",
      "metadata": {
        "colab": {
          "base_uri": "https://localhost:8080/"
        },
        "id": "iZxL-BCLkOiz",
        "outputId": "71260e45-fd67-4cb5-debb-f0de2341b638"
      },
      "source": [
        "# Generate the total number of paid reviews\n",
        "total_paid_reviews = paid_reviews_df.count()\n",
        "total_paid_reviews"
      ],
      "execution_count": 10,
      "outputs": [
        {
          "output_type": "execute_result",
          "data": {
            "text/plain": [
              "607"
            ]
          },
          "metadata": {
            "tags": []
          },
          "execution_count": 10
        }
      ]
    },
    {
      "cell_type": "code",
      "metadata": {
        "colab": {
          "base_uri": "https://localhost:8080/"
        },
        "id": "n2MRCimnmGrt",
        "outputId": "ab5024a2-0e16-4e5a-d8be-7bd06b5641a9"
      },
      "source": [
        "# Generate the total number of five star paid reviews\n",
        "paid_five_star_reviews = paid_reviews_df.filter(\"star_rating == 5\").count()\n",
        "paid_five_star_reviews"
      ],
      "execution_count": 11,
      "outputs": [
        {
          "output_type": "execute_result",
          "data": {
            "text/plain": [
              "257"
            ]
          },
          "metadata": {
            "tags": []
          },
          "execution_count": 11
        }
      ]
    },
    {
      "cell_type": "code",
      "metadata": {
        "colab": {
          "base_uri": "https://localhost:8080/"
        },
        "id": "XHuRb8TumeoR",
        "outputId": "fcd99ab8-865a-42e4-eac9-205a1aec6440"
      },
      "source": [
        "# Generate the percentage of paid five star reviews\n",
        "paid_five_star_reviews_percentage = (paid_five_star_reviews/total_paid_reviews) * 100\n",
        "paid_five_star_reviews_percentage"
      ],
      "execution_count": 12,
      "outputs": [
        {
          "output_type": "execute_result",
          "data": {
            "text/plain": [
              "42.33937397034596"
            ]
          },
          "metadata": {
            "tags": []
          },
          "execution_count": 12
        }
      ]
    },
    {
      "cell_type": "code",
      "metadata": {
        "colab": {
          "base_uri": "https://localhost:8080/"
        },
        "id": "FiXrqY-Vp2fq",
        "outputId": "5b4574b9-8ec8-4dde-8b64-bec175fd0f46"
      },
      "source": [
        "# Generate the total number of unpaid reviews\n",
        "total_unpaid_reviews = unpaid_reviews_df.count()\n",
        "total_unpaid_reviews"
      ],
      "execution_count": 13,
      "outputs": [
        {
          "output_type": "execute_result",
          "data": {
            "text/plain": [
              "50522"
            ]
          },
          "metadata": {
            "tags": []
          },
          "execution_count": 13
        }
      ]
    },
    {
      "cell_type": "code",
      "metadata": {
        "colab": {
          "base_uri": "https://localhost:8080/"
        },
        "id": "FKWgVlgDp77z",
        "outputId": "37b2e146-00a8-4d54-d560-f60bc834ab66"
      },
      "source": [
        "# Generate the total number of unpaid five star reviews\n",
        "unpaid_five_star_reviews = unpaid_reviews_df.filter(\"star_rating == 5\").count()\n",
        "unpaid_five_star_reviews"
      ],
      "execution_count": 14,
      "outputs": [
        {
          "output_type": "execute_result",
          "data": {
            "text/plain": [
              "25220"
            ]
          },
          "metadata": {
            "tags": []
          },
          "execution_count": 14
        }
      ]
    },
    {
      "cell_type": "code",
      "metadata": {
        "colab": {
          "base_uri": "https://localhost:8080/"
        },
        "id": "ZboDZvC9qC5e",
        "outputId": "ae59b2b9-67b9-43d9-c230-0c049390c783"
      },
      "source": [
        "# Generate the percentage of unpaid five star reviews. \n",
        "unpaid_five_star_reviews_percentage = (unpaid_five_star_reviews/total_unpaid_reviews) * 100\n",
        "unpaid_five_star_reviews_percentage"
      ],
      "execution_count": 15,
      "outputs": [
        {
          "output_type": "execute_result",
          "data": {
            "text/plain": [
              "49.91884723486798"
            ]
          },
          "metadata": {
            "tags": []
          },
          "execution_count": 15
        }
      ]
    }
  ]
}